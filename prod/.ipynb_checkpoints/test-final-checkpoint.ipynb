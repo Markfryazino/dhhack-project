{
 "cells": [
  {
   "cell_type": "code",
   "execution_count": 1,
   "metadata": {},
   "outputs": [],
   "source": [
    "import numpy as np\n",
    "import gensim"
   ]
  },
  {
   "cell_type": "code",
   "execution_count": null,
   "metadata": {},
   "outputs": [],
   "source": [
    "import sys\n",
    "sys.path.insert(1, './prod/')\n",
    "import prod"
   ]
  },
  {
   "cell_type": "code",
   "execution_count": 61,
   "metadata": {},
   "outputs": [
    {
     "name": "stderr",
     "output_type": "stream",
     "text": [
      "[nltk_data] Downloading package stopwords to\n",
      "[nltk_data]     /home/data_sapiens/nltk_data...\n",
      "[nltk_data]   Package stopwords is already up-to-date!\n"
     ]
    },
    {
     "name": "stdout",
     "output_type": "stream",
     "text": [
      "./books/classic/jivago.txt\n",
      "./books/classic/warandpeace.txt\n",
      "./books/classic/govardtales.txt\n",
      "./books/classic/brotherskaramasovi.txt\n",
      "./books/classic/saltikov_shedrintales.txt\n",
      "./books/classic/besidostoevsk.txt\n",
      "./books/classic/strugatskie.txt\n",
      "./books/classic/atthemountainsofmadness.txt\n",
      "./books/classic/otrochestvo.txt\n",
      "./books/classic/annakarenina.txt\n",
      "./books/classic/lermontovgeroj.txt\n",
      "./books/classic/otcianddeti.txt\n",
      "./books/classic/oblomov.txt\n",
      "./books/classic/idiot.txt\n",
      "./books/classic/tolstoidetstvo.txt\n",
      "./books/classic/journeytomoscow.txt\n",
      "./books/classic/onegin.txt\n",
      "./books/classic/ktulhu_demo.txt\n",
      "./books/classic/masterandmargaret.txt\n",
      "./books/trash/lullaby.txt\n",
      "./books/trash/survivor.txt\n",
      "./books/trash/fameless.txt\n",
      "./books/trash/chapaev_demo.txt\n",
      "./books/trash/Pelevin.txt\n",
      "./books/trash/projectX.txt\n",
      "./books/trash/gruz200.txt\n",
      "./books/trash/rastamans.txt\n",
      "./books/trash/oneflewover.txt\n",
      "./books/trash/chapaevandvoid.txt\n",
      "./books/trash/dogma.txt\n",
      "./books/trash/snatch.txt\n",
      "./books/trash/trainspotting.txt\n",
      "./books/trash/brat.txt\n",
      "./books/trash/pulpfiction.txt\n",
      "./books/trash/mitiki.txt\n",
      "./books/trash/messenger.txt\n",
      "./books/trash/reservoirdogs.txt\n",
      "./books/trash/pelevintales.txt\n",
      "./books/trash/choke.txt\n",
      "./books/trash/piratesofthe.txt\n",
      "./books/trash/fightclub.txt\n"
     ]
    }
   ],
   "source": [
    "\n",
    "\n",
    "docs_c, wordset_c, full_c, docs_t, wordset_t, full_t, texts, fulls, sets, model, npidf, fnames = prod.pipeline(8)"
   ]
  },
  {
   "cell_type": "code",
   "execution_count": 54,
   "metadata": {},
   "outputs": [
    {
     "data": {
      "text/plain": [
       "[(1, 'тыто', 'Чувак'),\n",
       " (0, 'пошел', 'пошел'),\n",
       " (0, 'тусить,', 'тусить,'),\n",
       " (0, 'да', 'да'),\n",
       " (0, 'что', 'что'),\n",
       " (0, 'за', 'за'),\n",
       " (1, 'сброд', 'хренотень')]"
      ]
     },
     "execution_count": 54,
     "metadata": {},
     "output_type": "execute_result"
    }
   ],
   "source": [
    "prod.production('Чувак пошел тусить, да что за хренотень', model, sets, fnames, npidf, 1)"
   ]
  },
  {
   "cell_type": "code",
   "execution_count": 55,
   "metadata": {},
   "outputs": [
    {
     "data": {
      "text/plain": [
       "[(1, 'чернявый', 'Ублюдок,'),\n",
       " (0, 'мать', 'мать'),\n",
       " (0, 'твою,', 'твою,'),\n",
       " (0, 'а', 'а'),\n",
       " (0, 'ну', 'ну'),\n",
       " (0, 'иди', 'иди'),\n",
       " (0, 'сюда', 'сюда'),\n",
       " (1, 'редька', 'говно'),\n",
       " (1, 'несытый', 'собачье,'),\n",
       " (0, 'решил', 'решил'),\n",
       " (0, 'ко', 'ко'),\n",
       " (0, 'мне', 'мне'),\n",
       " (1, 'домоделать', 'лезть?'),\n",
       " (1, 'тыто', 'Ты,'),\n",
       " (1, 'меделянский', 'засранец'),\n",
       " (1, 'картофель', 'вонючий,'),\n",
       " (0, 'мать', 'мать'),\n",
       " (0, 'твою,', 'твою,'),\n",
       " (0, 'а?', 'а?'),\n",
       " (0, 'Ну', 'Ну'),\n",
       " (0, 'иди', 'иди'),\n",
       " (0, 'сюда,', 'сюда,'),\n",
       " (1, 'одумываться', 'попробуй'),\n",
       " (0, 'меня', 'меня'),\n",
       " (1, 'женить', 'трахнуть,'),\n",
       " (0, 'я', 'я'),\n",
       " (1, 'тыто', 'тебя'),\n",
       " (0, 'сам', 'сам'),\n",
       " (1, 'женить', 'трахну'),\n",
       " (1, 'чернявый', 'ублюдок,'),\n",
       " (1, 'скажитек', 'онанист'),\n",
       " (1, 'поздюнин', 'чертов,'),\n",
       " (0, 'будь', 'будь'),\n",
       " (1, 'тыто', 'ты'),\n",
       " (0, 'проклят,', 'проклят,'),\n",
       " (0, 'иди', 'иди'),\n",
       " (1, 'дурак', 'идиот,'),\n",
       " (1, 'пармезан', 'трахать'),\n",
       " (1, 'тыто', 'тебя'),\n",
       " (0, 'и', 'и'),\n",
       " (0, 'всю', 'всю'),\n",
       " (0, 'семью,', 'семью,'),\n",
       " (1, 'редька', 'говно'),\n",
       " (1, 'несытый', 'собачье,'),\n",
       " (1, 'скучища', 'жлоб'),\n",
       " (1, 'картофель', 'вонючий,'),\n",
       " (1, 'убивство', 'дерьмо,'),\n",
       " (1, 'народто', 'сука,'),\n",
       " (1, 'мука', 'падла,'),\n",
       " (0, 'иди', 'иди'),\n",
       " (0, 'сюда,', 'сюда,'),\n",
       " (0, 'мерзавец,', 'мерзавец,'),\n",
       " (0, 'негодяй,', 'негодяй,'),\n",
       " (1, 'тьфу', 'гад,'),\n",
       " (0, 'иди', 'иди'),\n",
       " (0, 'сюда', 'сюда'),\n",
       " (1, 'тыто', 'ты'),\n",
       " (0, '-', '-'),\n",
       " (1, 'редька', 'говно,'),\n",
       " (1, 'батожье', 'ЖОПА!')]"
      ]
     },
     "execution_count": 55,
     "metadata": {},
     "output_type": "execute_result"
    }
   ],
   "source": [
    "test = 'Ублюдок, мать твою, а ну иди сюда говно собачье, решил ко мне лезть? Ты, засранец вонючий, мать твою, а? Ну иди сюда, попробуй меня трахнуть, я тебя сам трахну ублюдок, онанист чертов, будь ты проклят, иди идиот, трахать тебя и всю семью, говно собачье, жлоб вонючий, дерьмо, сука, падла, иди сюда, мерзавец, негодяй, гад, иди сюда ты - говно, ЖОПА!'\n",
    "prod.production(test, model, sets, fnames, npidf, 1)"
   ]
  },
  {
   "cell_type": "code",
   "execution_count": 17,
   "metadata": {},
   "outputs": [],
   "source": [
    "model2 = gensim.models.Word2Vec(\n",
    "        texts,\n",
    "        size=100,\n",
    "        iter=10,\n",
    "        workers=8,\n",
    "        min_count=2,\n",
    "        window=5,\n",
    "        sg=0,\n",
    "        hs=1,\n",
    "        negative=2,\n",
    "        cbow_mean=1)"
   ]
  },
  {
   "cell_type": "code",
   "execution_count": 16,
   "metadata": {},
   "outputs": [
    {
     "data": {
      "text/plain": [
       "array([0.00000000e+00, 9.84132892e-05])"
      ]
     },
     "execution_count": 16,
     "metadata": {},
     "output_type": "execute_result"
    }
   ],
   "source": [
    "index = fnames.index('хренотень')\n",
    "idf = npidf[:, index]\n",
    "idf"
   ]
  },
  {
   "cell_type": "code",
   "execution_count": 39,
   "metadata": {},
   "outputs": [],
   "source": [
    "window = 6\n",
    "text = 'растаман пришел нахер домой'.split()\n",
    "text2 = ['PASS'] * (window // 2) + text + ['PASS'] * (window//2)\n",
    "\n",
    "for i in range(len(text)):\n",
    "    res = model.predict_output_word(\n",
    "    text2[i:window//2 + i] + text2[window//2 + i+1:window + i + 1], topn = 100)\n",
    "    best = []\n",
    "    for i in res:\n",
    "        best.append(i[0])"
   ]
  },
  {
   "cell_type": "code",
   "execution_count": 24,
   "metadata": {},
   "outputs": [
    {
     "data": {
      "text/plain": [
       "[('ехать', 0.3694708),\n",
       " ('поехать', 0.15361731),\n",
       " ('возвращаться', 0.09724624),\n",
       " ('вернуться', 0.053099956),\n",
       " ('приезжать', 0.04414215),\n",
       " ('отправляться', 0.026808148),\n",
       " ('пойти', 0.025066836),\n",
       " ('зайти', 0.022235611),\n",
       " ('приходить', 0.01950629),\n",
       " ('идти', 0.015610867)]"
      ]
     },
     "execution_count": 24,
     "metadata": {},
     "output_type": "execute_result"
    }
   ],
   "source": [
    "model.predict_output_word(text)"
   ]
  },
  {
   "cell_type": "code",
   "execution_count": 27,
   "metadata": {},
   "outputs": [],
   "source": [
    "model.predict_output_word(\n",
    "    text[i:window//2 + i] + text[window//2 + i+1:window + i + 1])"
   ]
  },
  {
   "cell_type": "code",
   "execution_count": 37,
   "metadata": {},
   "outputs": [
    {
     "name": "stdout",
     "output_type": "stream",
     "text": [
      "['домой', 'PASS', 'PASS']\n"
     ]
    },
    {
     "data": {
      "text/plain": [
       "[('возвращаться', 0.5975911),\n",
       " ('вернуться', 0.3631618),\n",
       " ('приходить', 0.00837565),\n",
       " ('поехать', 0.007945333),\n",
       " ('воротиться', 0.0065135513),\n",
       " ('отправляться', 0.005217832),\n",
       " ('ехать', 0.0050447383),\n",
       " ('зайти', 0.0028894611),\n",
       " ('приезжать', 0.0013255287),\n",
       " ('пойти', 0.0006016973)]"
      ]
     },
     "execution_count": 37,
     "metadata": {},
     "output_type": "execute_result"
    }
   ],
   "source": [
    "i = 6\n",
    "print(text[i:window//2 + i] + text[window//2 + i+1:window + i + 1])\n",
    "model.predict_output_word(\n",
    "    text[i:window//2 + i] + text[window//2 + i+1:window + i + 1])"
   ]
  },
  {
   "cell_type": "code",
   "execution_count": 45,
   "metadata": {},
   "outputs": [
    {
     "name": "stderr",
     "output_type": "stream",
     "text": [
      "[nltk_data] Downloading package stopwords to\n",
      "[nltk_data]     /home/data_sapiens/nltk_data...\n",
      "[nltk_data]   Unzipping corpora/stopwords.zip.\n"
     ]
    },
    {
     "data": {
      "text/plain": [
       "True"
      ]
     },
     "execution_count": 45,
     "metadata": {},
     "output_type": "execute_result"
    }
   ],
   "source": [
    "import nltk\n",
    "nltk.download('stopwords')"
   ]
  },
  {
   "cell_type": "code",
   "execution_count": 60,
   "metadata": {},
   "outputs": [],
   "source": [
    "from importlib import reload  # Python 3.4+ only.\n",
    "prod = reload(prod)"
   ]
  },
  {
   "cell_type": "code",
   "execution_count": 46,
   "metadata": {},
   "outputs": [
    {
     "data": {
      "text/plain": [
       "['и',\n",
       " 'в',\n",
       " 'во',\n",
       " 'не',\n",
       " 'что',\n",
       " 'он',\n",
       " 'на',\n",
       " 'я',\n",
       " 'с',\n",
       " 'со',\n",
       " 'как',\n",
       " 'а',\n",
       " 'то',\n",
       " 'все',\n",
       " 'она',\n",
       " 'так',\n",
       " 'его',\n",
       " 'но',\n",
       " 'да',\n",
       " 'ты',\n",
       " 'к',\n",
       " 'у',\n",
       " 'же',\n",
       " 'вы',\n",
       " 'за',\n",
       " 'бы',\n",
       " 'по',\n",
       " 'только',\n",
       " 'ее',\n",
       " 'мне',\n",
       " 'было',\n",
       " 'вот',\n",
       " 'от',\n",
       " 'меня',\n",
       " 'еще',\n",
       " 'нет',\n",
       " 'о',\n",
       " 'из',\n",
       " 'ему',\n",
       " 'теперь',\n",
       " 'когда',\n",
       " 'даже',\n",
       " 'ну',\n",
       " 'вдруг',\n",
       " 'ли',\n",
       " 'если',\n",
       " 'уже',\n",
       " 'или',\n",
       " 'ни',\n",
       " 'быть',\n",
       " 'был',\n",
       " 'него',\n",
       " 'до',\n",
       " 'вас',\n",
       " 'нибудь',\n",
       " 'опять',\n",
       " 'уж',\n",
       " 'вам',\n",
       " 'ведь',\n",
       " 'там',\n",
       " 'потом',\n",
       " 'себя',\n",
       " 'ничего',\n",
       " 'ей',\n",
       " 'может',\n",
       " 'они',\n",
       " 'тут',\n",
       " 'где',\n",
       " 'есть',\n",
       " 'надо',\n",
       " 'ней',\n",
       " 'для',\n",
       " 'мы',\n",
       " 'тебя',\n",
       " 'их',\n",
       " 'чем',\n",
       " 'была',\n",
       " 'сам',\n",
       " 'чтоб',\n",
       " 'без',\n",
       " 'будто',\n",
       " 'чего',\n",
       " 'раз',\n",
       " 'тоже',\n",
       " 'себе',\n",
       " 'под',\n",
       " 'будет',\n",
       " 'ж',\n",
       " 'тогда',\n",
       " 'кто',\n",
       " 'этот',\n",
       " 'того',\n",
       " 'потому',\n",
       " 'этого',\n",
       " 'какой',\n",
       " 'совсем',\n",
       " 'ним',\n",
       " 'здесь',\n",
       " 'этом',\n",
       " 'один',\n",
       " 'почти',\n",
       " 'мой',\n",
       " 'тем',\n",
       " 'чтобы',\n",
       " 'нее',\n",
       " 'сейчас',\n",
       " 'были',\n",
       " 'куда',\n",
       " 'зачем',\n",
       " 'всех',\n",
       " 'никогда',\n",
       " 'можно',\n",
       " 'при',\n",
       " 'наконец',\n",
       " 'два',\n",
       " 'об',\n",
       " 'другой',\n",
       " 'хоть',\n",
       " 'после',\n",
       " 'над',\n",
       " 'больше',\n",
       " 'тот',\n",
       " 'через',\n",
       " 'эти',\n",
       " 'нас',\n",
       " 'про',\n",
       " 'всего',\n",
       " 'них',\n",
       " 'какая',\n",
       " 'много',\n",
       " 'разве',\n",
       " 'три',\n",
       " 'эту',\n",
       " 'моя',\n",
       " 'впрочем',\n",
       " 'хорошо',\n",
       " 'свою',\n",
       " 'этой',\n",
       " 'перед',\n",
       " 'иногда',\n",
       " 'лучше',\n",
       " 'чуть',\n",
       " 'том',\n",
       " 'нельзя',\n",
       " 'такой',\n",
       " 'им',\n",
       " 'более',\n",
       " 'всегда',\n",
       " 'конечно',\n",
       " 'всю',\n",
       " 'между']"
      ]
     },
     "execution_count": 46,
     "metadata": {},
     "output_type": "execute_result"
    }
   ],
   "source": [
    "from nltk.corpus import stopwords\n",
    "stop = stopwords.words('russian')\n",
    "stop"
   ]
  }
 ],
 "metadata": {
  "kernelspec": {
   "display_name": "Python 3",
   "language": "python",
   "name": "python3"
  },
  "language_info": {
   "codemirror_mode": {
    "name": "ipython",
    "version": 3
   },
   "file_extension": ".py",
   "mimetype": "text/x-python",
   "name": "python",
   "nbconvert_exporter": "python",
   "pygments_lexer": "ipython3",
   "version": "3.7.3"
  }
 },
 "nbformat": 4,
 "nbformat_minor": 2
}
