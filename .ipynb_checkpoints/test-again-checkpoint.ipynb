{
 "cells": [
  {
   "cell_type": "code",
   "execution_count": 6,
   "metadata": {},
   "outputs": [
    {
     "name": "stdout",
     "output_type": "stream",
     "text": [
      "./books/classic/jivago.txt\n",
      "./books/classic/warandpeace.txt\n",
      "./books/classic/govardtales.txt\n",
      "./books/classic/brotherskaramasovi.txt\n",
      "./books/classic/saltikov_shedrintales.txt\n",
      "./books/classic/besidostoevsk.txt\n",
      "./books/classic/strugatskie.txt\n",
      "./books/classic/atthemountainsofmadness.txt\n",
      "./books/classic/otrochestvo.txt\n",
      "./books/classic/annakarenina.txt\n",
      "./books/classic/lermontovgeroj.txt\n",
      "./books/classic/otcianddeti.txt\n",
      "./books/classic/oblomov.txt\n",
      "./books/classic/idiot.txt\n",
      "./books/classic/tolstoidetstvo.txt\n",
      "./books/classic/journeytomoscow.txt\n",
      "./books/classic/onegin.txt\n",
      "./books/classic/ktulhu_demo.txt\n",
      "./books/classic/masterandmargaret.txt\n",
      "./books/trash/lullaby.txt\n",
      "./books/trash/survivor.txt\n",
      "./books/trash/fameless.txt\n",
      "./books/trash/chapaev_demo.txt\n",
      "./books/trash/Pelevin.txt\n",
      "./books/trash/projectX.txt\n",
      "./books/trash/gruz200.txt\n",
      "./books/trash/rastamans.txt\n",
      "./books/trash/oneflewover.txt\n",
      "./books/trash/chapaevandvoid.txt\n",
      "./books/trash/dogma.txt\n",
      "./books/trash/snatch.txt\n",
      "./books/trash/trainspotting.txt\n",
      "./books/trash/brat.txt\n",
      "./books/trash/pulpfiction.txt\n",
      "./books/trash/mitiki.txt\n",
      "./books/trash/messenger.txt\n",
      "./books/trash/reservoirdogs.txt\n",
      "./books/trash/pelevintales.txt\n",
      "./books/trash/choke.txt\n",
      "./books/trash/piratesofthe.txt\n",
      "./books/trash/fightclub.txt\n"
     ]
    }
   ],
   "source": [
    "import sys\n",
    "sys.path.insert(1, './prod/')\n",
    "import prod\n",
    "\n",
    "docs_c, wordset_c, full_c, docs_t, wordset_t, full_t, texts, fulls, sets, model, npidf, fnames = prod.pipeline(8)"
   ]
  },
  {
   "cell_type": "code",
   "execution_count": 18,
   "metadata": {},
   "outputs": [],
   "source": [
    "from importlib import reload  # Python 3.4+ only.\n",
    "prod = reload(prod)"
   ]
  },
  {
   "cell_type": "code",
   "execution_count": 12,
   "metadata": {},
   "outputs": [],
   "source": [
    "text = 'Ублюдок, мать твою, а ну иди сюда, говно собачье, решил ко мне лезть? Ты, засранец вонючий, мать твою, а? Ну иди сюда, попробуй меня трахнуть, я тебя сам трахну, ублюдок, онанист чертов, будь ты проклят, иди идиот, трахать тебя и всю семью, говно собачье, жлоб вонючий, дерьмо, падла, иди сюда, мерзавец, негодяй, гад, иди сюда, ты — говно, жопа!'\n",
    "l = prod.production(text, model, sets, fnames, npidf)"
   ]
  },
  {
   "cell_type": "code",
   "execution_count": 21,
   "metadata": {},
   "outputs": [],
   "source": [
    "text = 'Я вам запрещаю спать на покровке, вы студенты чертовы, кретины тупые, жлобы вонючие. Ненавижу вас, еретики и суки замудоханные!'\n",
    "s = prod.production(text, model, sets, fnames, npidf, 1)"
   ]
  },
  {
   "cell_type": "code",
   "execution_count": 15,
   "metadata": {},
   "outputs": [
    {
     "data": {
      "text/plain": [
       "'чернявый мать твою, а ну иди сюда, редька бузулук решил ко мне проситься я животина оборванный мать твою, а? Ну иди сюда, немножко меня мягкосердый я я сам мягкосердый чернявый шульцеделич подсоблять будь я проклят, иди дурак артамошкаменьшой я и всю семью, редька бузулук гимназистика оборванный голодуха сабанеев иди сюда, мерзавец, негодяй, интендантство иди сюда, я — редька коленкоровый'"
      ]
     },
     "execution_count": 15,
     "metadata": {},
     "output_type": "execute_result"
    }
   ],
   "source": [
    "r = ' '.join([el[1] for el in l])\n",
    "r"
   ]
  },
  {
   "cell_type": "code",
   "execution_count": 22,
   "metadata": {},
   "outputs": [
    {
     "data": {
      "text/plain": [
       "[(0, 'Я'),\n",
       " (0, 'вам'),\n",
       " (0, 'запрещаю'),\n",
       " (0, 'спать'),\n",
       " (0, 'на'),\n",
       " (0, 'покровке,'),\n",
       " (0, 'вы'),\n",
       " (0, 'студенты'),\n",
       " (1, 'подсоблять'),\n",
       " (1, 'бесстыдница'),\n",
       " (1, 'грубый'),\n",
       " (1, 'гимназистика'),\n",
       " (1, 'оборванный'),\n",
       " (0, 'Ненавижу'),\n",
       " (0, 'вас,'),\n",
       " (0, 'еретики'),\n",
       " (0, 'и'),\n",
       " (1, 'гошка'),\n",
       " (1, '0')]"
      ]
     },
     "execution_count": 22,
     "metadata": {},
     "output_type": "execute_result"
    }
   ],
   "source": [
    "s"
   ]
  }
 ],
 "metadata": {
  "kernelspec": {
   "display_name": "Python 3",
   "language": "python",
   "name": "python3"
  },
  "language_info": {
   "codemirror_mode": {
    "name": "ipython",
    "version": 3
   },
   "file_extension": ".py",
   "mimetype": "text/x-python",
   "name": "python",
   "nbconvert_exporter": "python",
   "pygments_lexer": "ipython3",
   "version": "3.7.3"
  }
 },
 "nbformat": 4,
 "nbformat_minor": 2
}
