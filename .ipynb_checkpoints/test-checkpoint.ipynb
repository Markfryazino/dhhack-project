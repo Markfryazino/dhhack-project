{
 "cells": [
  {
   "cell_type": "code",
   "execution_count": 57,
   "metadata": {},
   "outputs": [],
   "source": [
    "import numpy as np\n",
    "import gensim\n",
    "from sklearn.feature_extraction.text import TfidfVectorizer\n",
    "import re\n",
    "import pymystem3\n",
    "import os"
   ]
  },
  {
   "cell_type": "code",
   "execution_count": 69,
   "metadata": {},
   "outputs": [],
   "source": [
    "from importlib import reload  # Python 3.4+ only.\n",
    "prod = reload(prod)"
   ]
  },
  {
   "cell_type": "code",
   "execution_count": 2,
   "metadata": {},
   "outputs": [],
   "source": [
    "import sys\n",
    "sys.path.insert(1, './prod/')\n",
    "import prod"
   ]
  },
  {
   "cell_type": "code",
   "execution_count": 3,
   "metadata": {},
   "outputs": [
    {
     "name": "stdout",
     "output_type": "stream",
     "text": [
      "./books/classic/jivago.txt\n",
      "./books/classic/warandpeace.txt\n",
      "./books/classic/govardtales.txt\n",
      "./books/classic/brotherskaramasovi.txt\n",
      "./books/classic/atthemountainsofmadness.txt\n",
      "./books/classic/annakarenina.txt\n",
      "./books/classic/oblomov.txt\n",
      "./books/classic/idiot.txt\n",
      "./books/classic/journeytomoscow.txt\n",
      "./books/classic/onegin.txt\n",
      "./books/classic/ktulhu_demo.txt\n",
      "./books/classic/masterandmargaret.txt\n",
      "./books/trash/lullaby.txt\n",
      "./books/trash/survivor.txt\n",
      "./books/trash/fameless.txt\n",
      "./books/trash/chapaev_demo.txt\n",
      "./books/trash/Pelevin.txt\n",
      "./books/trash/gruz200.txt\n",
      "./books/trash/rastamans.txt\n",
      "./books/trash/oneflewover.txt\n",
      "./books/trash/chapaevandvoid.txt\n",
      "./books/trash/dogma.txt\n",
      "./books/trash/snatch.txt\n",
      "./books/trash/trainspotting.txt\n",
      "./books/trash/brat.txt\n",
      "./books/trash/pulpfiction.txt\n",
      "./books/trash/mitiki.txt\n",
      "./books/trash/messenger.txt\n",
      "./books/trash/reservoirdogs.txt\n",
      "./books/trash/pelevintales.txt\n",
      "./books/trash/choke.txt\n",
      "./books/trash/piratesofthe.txt\n",
      "./books/trash/fightclub.txt\n"
     ]
    }
   ],
   "source": [
    "docs_c, wordset_c, full_c = prod.prepare_group('./books/classic')\n",
    "docs_t, wordset_t, full_t = prod.prepare_group('./books/trash')\n",
    "\n",
    "texts = docs_c + docs_t\n",
    "fulls = [full_c, full_t]\n",
    "sets = [wordset_c, wordset_t]"
   ]
  },
  {
   "cell_type": "code",
   "execution_count": 29,
   "metadata": {},
   "outputs": [],
   "source": [
    "model = gensim.models.Word2Vec(texts, size=100, iter=10, workers=8, min_count=2, window=5, sg=0, hs=1, \n",
    "                              negative=2, cbow_mean=1)"
   ]
  },
  {
   "cell_type": "code",
   "execution_count": 5,
   "metadata": {},
   "outputs": [],
   "source": [
    "npidf, fnames = prod.make_tfidf(fulls)"
   ]
  },
  {
   "cell_type": "code",
   "execution_count": 33,
   "metadata": {},
   "outputs": [
    {
     "data": {
      "text/plain": [
       "[['мудак', 'дерьмо', 0], ['мудак', 'дерьмо', 1], ['мудак', 'дерьмо', 2]]"
      ]
     },
     "execution_count": 33,
     "metadata": {},
     "output_type": "execute_result"
    }
   ],
   "source": [
    "test = 'мудак мудака мудаком'\n",
    "prod.production(test, model, sets, fnames, npidf)"
   ]
  },
  {
   "cell_type": "code",
   "execution_count": 40,
   "metadata": {},
   "outputs": [
    {
     "data": {
      "text/plain": [
       "[['мудак', 'пустяк', 11], ['мразь', 'швейцар', 14]]"
      ]
     },
     "execution_count": 40,
     "metadata": {},
     "output_type": "execute_result"
    }
   ],
   "source": [
    "test = 'Мой вонючий босс уже полгода пытается покончить с собой, вот же мудак! Ненавижу его! Мразь! \\n Я потратил на него лучшие года жизни. И зачем?'\n",
    "prod.production(test, model, sets, fnames, npidf)"
   ]
  },
  {
   "cell_type": "code",
   "execution_count": 42,
   "metadata": {},
   "outputs": [
    {
     "data": {
      "text/plain": [
       "[('ненадобность', 0.5932390689849854),\n",
       " ('нна', 0.5336540341377258),\n",
       " ('ххха', 0.5309528112411499),\n",
       " ('2499', 0.5279796123504639),\n",
       " ('граница', 0.5195241570472717),\n",
       " ('погоня', 0.514958381652832),\n",
       " ('хуйня', 0.49350985884666443),\n",
       " ('эйзенхауэр', 0.48781779408454895),\n",
       " ('тридевять', 0.4857815206050873),\n",
       " ('гнаться', 0.48563799262046814)]"
      ]
     },
     "execution_count": 42,
     "metadata": {},
     "output_type": "execute_result"
    }
   ],
   "source": [
    "model.wv.most_similar('хрень')"
   ]
  },
  {
   "cell_type": "code",
   "execution_count": 44,
   "metadata": {},
   "outputs": [],
   "source": [
    "w2v = gensim.models.Word2Vec(texts, iter=10, window=5, sg=0, hs=1, negative=2, cbow_mean=1)"
   ]
  },
  {
   "cell_type": "code",
   "execution_count": 55,
   "metadata": {},
   "outputs": [
    {
     "data": {
      "text/plain": [
       "'Вот идиот ненавижу своего босса Увольте его пожалуйста Я так больше не могу'"
      ]
     },
     "execution_count": 55,
     "metadata": {},
     "output_type": "execute_result"
    }
   ],
   "source": [
    "corpus = 'Вот идиот, ненавижу своего босса. Увольте его, пожалуйста. Я так больше не могу!'\n",
    "\n",
    "#corpus = [re.sub(r'[^\\w\\s]', '', el) for el in corpus.lower().split()]\n",
    "corpus = re.sub(r'[^\\w\\s]', '', corpus)\n",
    "corpus"
   ]
  },
  {
   "cell_type": "code",
   "execution_count": 59,
   "metadata": {},
   "outputs": [],
   "source": [
    "stem = pymystem3.Mystem()\n",
    "words = corpus.lower()\n",
    "proc = stem.lemmatize(words)\n",
    "proc = [w for w in proc if (w.strip() != '') and (w != '\\n')]"
   ]
  },
  {
   "cell_type": "code",
   "execution_count": 64,
   "metadata": {},
   "outputs": [
    {
     "name": "stdout",
     "output_type": "stream",
     "text": [
      "['вот', 'идиот', 'ненавидеть', 'ну', 'босс', 'увольнять', 'его', 'пожалуйста', 'я', 'так', 'больше', 'не', 'мочь']\n",
      "['вот', 'идиот', 'ненавидеть', 'свой', 'ненавидеть', 'увольнять', 'его', 'пожалуйста', 'я', 'так', 'больше', 'не', 'мочь']\n",
      "['вот', 'идиот', 'ненавидеть', 'свой', 'босс', 'ненавидеть', 'его', 'пожалуйста', 'я', 'так', 'больше', 'не', 'мочь']\n",
      "['вот', 'идиот', 'ненавидеть', 'свой', 'босс', 'увольнять', 'услуга', 'пожалуйста', 'я', 'так', 'больше', 'не', 'мочь']\n",
      "['вот', 'идиот', 'ненавидеть', 'свой', 'босс', 'увольнять', 'его', 'лицо', 'я', 'так', 'больше', 'не', 'мочь']\n",
      "['вот', 'идиот', 'ненавидеть', 'свой', 'босс', 'увольнять', 'его', 'пожалуйста', 'просить', 'так', 'больше', 'не', 'мочь']\n",
      "['вот', 'идиот', 'ненавидеть', 'свой', 'босс', 'увольнять', 'его', 'пожалуйста', 'я', 'просить', 'больше', 'не', 'мочь']\n",
      "['вот', 'идиот', 'ненавидеть', 'свой', 'босс', 'увольнять', 'его', 'пожалуйста', 'я', 'так', 'извинять', 'не', 'мочь']\n",
      "['вот', 'идиот', 'ненавидеть', 'свой', 'босс', 'увольнять', 'его', 'пожалуйста', 'я', 'так', 'больше', 'больше', 'мочь']\n",
      "['вот', 'идиот', 'ненавидеть', 'свой', 'босс', 'увольнять', 'его', 'пожалуйста', 'я', 'так', 'больше', 'не', 'ничто']\n"
     ]
    }
   ],
   "source": [
    "text = proc\n",
    "window = 3\n",
    "for i in range(len(text[window:])):\n",
    "    res = w2v.predict_output_word(text[i:window+i], topn=2)\n",
    "    print(text[:window+i]+['|'+res[0][0]+'|']+text[window+i+1:])"
   ]
  },
  {
   "cell_type": "code",
   "execution_count": 71,
   "metadata": {},
   "outputs": [
    {
     "data": {
      "text/plain": [
       "[['идиот', 'ветреница', 0],\n",
       " ['чертов', 'накрепко', 1],\n",
       " ['хреновый', 'мало', 2],\n",
       " ['растаман', 'гишаров', 3],\n",
       " ['мент', 'изот', 4],\n",
       " ['бесить', 'воображаться', 5],\n",
       " ['телевизор', 'педант', 6]]"
      ]
     },
     "execution_count": 71,
     "metadata": {},
     "output_type": "execute_result"
    }
   ],
   "source": [
    "text = 'Идиоты чертовы хреновы растаманы менты бесят телевизор'\n",
    "prod.production(text, model, sets, fnames, npidf)"
   ]
  },
  {
   "cell_type": "code",
   "execution_count": 68,
   "metadata": {},
   "outputs": [
    {
     "data": {
      "text/plain": [
       "array([0.00062841, 0.0012664 ])"
      ]
     },
     "execution_count": 68,
     "metadata": {},
     "output_type": "execute_result"
    }
   ],
   "source": [
    "word = 'идиот'\n",
    "index = fnames.index(word)\n",
    "idf = npidf[:, index]\n",
    "idf"
   ]
  },
  {
   "cell_type": "code",
   "execution_count": 88,
   "metadata": {},
   "outputs": [],
   "source": [
    "w2v_bad = gensim.models.Word2Vec(docs_t, iter=10, window=5, sg=0, hs=1, cbow_mean=1)"
   ]
  },
  {
   "cell_type": "code",
   "execution_count": 89,
   "metadata": {},
   "outputs": [],
   "source": [
    "w2v_good = gensim.models.Word2Vec(docs_c, iter=10, window=5, sg=0, hs=1, cbow_mean=1)"
   ]
  },
  {
   "cell_type": "code",
   "execution_count": 90,
   "metadata": {},
   "outputs": [],
   "source": [
    "stem = pymystem3.Mystem()\n",
    "words = corpus.lower()\n",
    "proc = stem.lemmatize(words)\n",
    "proc = [w for w in proc if (w.strip() != '') and (w != '\\n')]"
   ]
  },
  {
   "cell_type": "code",
   "execution_count": 93,
   "metadata": {},
   "outputs": [
    {
     "name": "stdout",
     "output_type": "stream",
     "text": [
      "['вот', 'идиот', 'ненавидеть', 'свой', 'босс', '|так|', 'его', 'пожалуйста', 'я', 'так', 'больше', 'не', 'мочь']\n",
      "['вот', 'идиот', 'ненавидеть', 'свой', 'босс', '|ненавидеть|', 'его', 'пожалуйста', 'я', 'так', 'больше', 'не', 'мочь']\n",
      "\n",
      "['вот', 'идиот', 'ненавидеть', 'свой', 'босс', 'увольнять', '|жизнь|', 'пожалуйста', 'я', 'так', 'больше', 'не', 'мочь']\n",
      "['вот', 'идиот', 'ненавидеть', 'свой', 'босс', 'увольнять', '|ненавидеть|', 'пожалуйста', 'я', 'так', 'больше', 'не', 'мочь']\n",
      "\n",
      "['вот', 'идиот', 'ненавидеть', 'свой', 'босс', 'увольнять', 'его', '|жена|', 'я', 'так', 'больше', 'не', 'мочь']\n",
      "['вот', 'идиот', 'ненавидеть', 'свой', 'босс', 'увольнять', 'его', '|душа|', 'я', 'так', 'больше', 'не', 'мочь']\n",
      "\n",
      "['вот', 'идиот', 'ненавидеть', 'свой', 'босс', 'увольнять', 'его', 'пожалуйста', '|жена|', 'так', 'больше', 'не', 'мочь']\n",
      "['вот', 'идиот', 'ненавидеть', 'свой', 'босс', 'увольнять', 'его', 'пожалуйста', '|превосходительство|', 'так', 'больше', 'не', 'мочь']\n",
      "\n",
      "['вот', 'идиот', 'ненавидеть', 'свой', 'босс', 'увольнять', 'его', 'пожалуйста', 'я', '|отпускать|', 'больше', 'не', 'мочь']\n",
      "['вот', 'идиот', 'ненавидеть', 'свой', 'босс', 'увольнять', 'его', 'пожалуйста', 'я', '|просить|', 'больше', 'не', 'мочь']\n",
      "\n",
      "['вот', 'идиот', 'ненавидеть', 'свой', 'босс', 'увольнять', 'его', 'пожалуйста', 'я', 'так', '|называть|', 'не', 'мочь']\n",
      "['вот', 'идиот', 'ненавидеть', 'свой', 'босс', 'увольнять', 'его', 'пожалуйста', 'я', 'так', '|извинять|', 'не', 'мочь']\n",
      "\n",
      "['вот', 'идиот', 'ненавидеть', 'свой', 'босс', 'увольнять', 'его', 'пожалуйста', 'я', 'так', 'больше', '|давать|', 'мочь']\n",
      "['вот', 'идиот', 'ненавидеть', 'свой', 'босс', 'увольнять', 'его', 'пожалуйста', 'я', 'так', 'больше', '|нет|', 'мочь']\n",
      "\n",
      "['вот', 'идиот', 'ненавидеть', 'свой', 'босс', 'увольнять', 'его', 'пожалуйста', 'я', 'так', 'больше', 'не', '|ничто|']\n",
      "['вот', 'идиот', 'ненавидеть', 'свой', 'босс', 'увольнять', 'его', 'пожалуйста', 'я', 'так', 'больше', 'не', '|ничто|']\n",
      "\n"
     ]
    }
   ],
   "source": [
    "text = proc\n",
    "window = 5\n",
    "for i in range(len(text[window:])):\n",
    "    try:\n",
    "        res = w2v_bad.predict_output_word(text[i:window+i], topn=2)\n",
    "        res1 = w2v_good.predict_output_word(text[i:window+i], topn=2)\n",
    "        print(text[:window+i]+['|'+res[0][0]+'|']+text[window+i+1:])\n",
    "        #print(w2v_bad[res[0][0]])\n",
    "\n",
    "        print(text[:window+i]+['|'+res1[0][0]+'|']+text[window+i+1:])\n",
    "        #print(w2v_bad[res[0][1]])\n",
    "    except:\n",
    "        print('sdklfhd')\n",
    "    \n",
    "    print()"
   ]
  },
  {
   "cell_type": "code",
   "execution_count": 94,
   "metadata": {},
   "outputs": [
    {
     "ename": "NameError",
     "evalue": "name 'Mystem' is not defined",
     "output_type": "error",
     "traceback": [
      "\u001b[0;31m---------------------------------------------------------------------------\u001b[0m",
      "\u001b[0;31mNameError\u001b[0m                                 Traceback (most recent call last)",
      "\u001b[0;32m<ipython-input-94-01957a37e847>\u001b[0m in \u001b[0;36m<module>\u001b[0;34m\u001b[0m\n\u001b[1;32m      1\u001b[0m \u001b[0mtext\u001b[0m \u001b[0;34m=\u001b[0m \u001b[0;34m\"Человечество слишком возгордилось своим технологическим прогрессом\"\u001b[0m\u001b[0;34m\u001b[0m\u001b[0;34m\u001b[0m\u001b[0m\n\u001b[0;32m----> 2\u001b[0;31m \u001b[0mm\u001b[0m \u001b[0;34m=\u001b[0m \u001b[0mMystem\u001b[0m\u001b[0;34m(\u001b[0m\u001b[0;34m)\u001b[0m\u001b[0;34m\u001b[0m\u001b[0;34m\u001b[0m\u001b[0m\n\u001b[0m\u001b[1;32m      3\u001b[0m \u001b[0mlemmas\u001b[0m \u001b[0;34m=\u001b[0m \u001b[0mm\u001b[0m\u001b[0;34m.\u001b[0m\u001b[0mlemmatize\u001b[0m\u001b[0;34m(\u001b[0m\u001b[0mtext\u001b[0m\u001b[0;34m)\u001b[0m\u001b[0;34m[\u001b[0m\u001b[0;34m:\u001b[0m\u001b[0;34m:\u001b[0m\u001b[0;36m2\u001b[0m\u001b[0;34m]\u001b[0m\u001b[0;34m\u001b[0m\u001b[0;34m\u001b[0m\u001b[0m\n\u001b[1;32m      4\u001b[0m \u001b[0mprint\u001b[0m\u001b[0;34m(\u001b[0m\u001b[0;34m\"lemmas:\"\u001b[0m\u001b[0;34m,\u001b[0m \u001b[0;34m''\u001b[0m\u001b[0;34m.\u001b[0m\u001b[0mjoin\u001b[0m\u001b[0;34m(\u001b[0m\u001b[0mlemmas\u001b[0m\u001b[0;34m)\u001b[0m\u001b[0;34m)\u001b[0m\u001b[0;34m\u001b[0m\u001b[0;34m\u001b[0m\u001b[0m\n\u001b[1;32m      5\u001b[0m \u001b[0;32mfor\u001b[0m \u001b[0mi\u001b[0m \u001b[0;32min\u001b[0m \u001b[0mrange\u001b[0m\u001b[0;34m(\u001b[0m\u001b[0mlen\u001b[0m\u001b[0;34m(\u001b[0m\u001b[0mlemmas\u001b[0m\u001b[0;34m)\u001b[0m\u001b[0;34m)\u001b[0m\u001b[0;34m:\u001b[0m\u001b[0;34m\u001b[0m\u001b[0;34m\u001b[0m\u001b[0m\n",
      "\u001b[0;31mNameError\u001b[0m: name 'Mystem' is not defined"
     ]
    }
   ],
   "source": [
    "text = \"Человечество слишком возгордилось своим технологическим прогрессом\"\n",
    "m = Mystem()\n",
    "lemmas = m.lemmatize(text)[::2]\n",
    "print(\"lemmas:\", ''.join(lemmas))\n",
    "for i in range(len(lemmas)):\n",
    "    print(m.analyze(text)[2*i]['text'], m.analyze(text)[2*i]['analysis'][0]['gr'].replace('=', ',').split(',')[0])"
   ]
  },
  {
   "cell_type": "code",
   "execution_count": 95,
   "metadata": {},
   "outputs": [
    {
     "data": {
      "text/plain": [
       "[['ублюдок', 'малютка', 0],\n",
       " ['гавно', 'смешной', 7],\n",
       " ['собачий', 'куратор', 8],\n",
       " ['лезть', 'пойти', 12],\n",
       " ['засранец', 'юраге', 14],\n",
       " ['вонючий', 'доха', 15],\n",
       " ['попробовать', 'хорошенько', 22],\n",
       " ['трахнуть', 'прогнать', 24],\n",
       " ['трахнуть', 'прогнать', 28],\n",
       " ['ублюдок', 'малютка', 29],\n",
       " ['онанист', '0', 30],\n",
       " ['чертов', 'накрепко', 31],\n",
       " ['идиот', 'ветреница', 36],\n",
       " ['трахать', 'народто', 37],\n",
       " ['гавно', 'смешной', 42],\n",
       " ['собачий', 'куратор', 43],\n",
       " ['жлоб', 'зарок', 44],\n",
       " ['вонючий', 'доха', 45],\n",
       " ['дерьмо', 'голодуха', 46],\n",
       " ['падло', 'размахаться', 47],\n",
       " ['гад', 'гадина', 52],\n",
       " ['гавно', 'смешной', 56],\n",
       " ['жопа', 'доха', 57]]"
      ]
     },
     "execution_count": 95,
     "metadata": {},
     "output_type": "execute_result"
    }
   ],
   "source": [
    "text = 'Ублюдок, мать твою, а ну иди сюда, говно собачье, решил ко мне лезть? Ты, засранец вонючий, мать твою, а? Ну иди сюда, попробуй меня трахнуть, я тебя сам трахну, ублюдок, онанист чертов, будь ты проклят, иди идиот, трахать тебя и всю семью, говно собачье, жлоб вонючий, дерьмо, падла, иди сюда, мерзавец, негодяй, гад, иди сюда, ты — говно, жопа!'\n",
    "prod.production(text, model, sets, fnames, npidf)"
   ]
  }
 ],
 "metadata": {
  "kernelspec": {
   "display_name": "Python 3",
   "language": "python",
   "name": "python3"
  },
  "language_info": {
   "codemirror_mode": {
    "name": "ipython",
    "version": 3
   },
   "file_extension": ".py",
   "mimetype": "text/x-python",
   "name": "python",
   "nbconvert_exporter": "python",
   "pygments_lexer": "ipython3",
   "version": "3.7.3"
  }
 },
 "nbformat": 4,
 "nbformat_minor": 2
}
