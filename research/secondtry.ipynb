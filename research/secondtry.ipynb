{
 "cells": [
  {
   "cell_type": "code",
   "execution_count": 5,
   "metadata": {},
   "outputs": [],
   "source": [
    "import numpy as np\n",
    "import gensim\n",
    "import re"
   ]
  },
  {
   "cell_type": "code",
   "execution_count": 8,
   "metadata": {},
   "outputs": [],
   "source": [
    "clean = ['warandpeace.txt', 'annakarenina.txt', 'idiot.txt', 'onegin.txt']\n",
    "medium = ['choke.txt', 'fightclub.txt', 'lullaby.txt', 'masterandmargaret.txt', 'messenger.txt',\n",
    "         'pulpfiction.txt', 'survivor.txt']\n",
    "slang = ['mitiki.txt', 'rastamans.txt', 'chapaev_demo.txt']"
   ]
  },
  {
   "cell_type": "code",
   "execution_count": 50,
   "metadata": {},
   "outputs": [],
   "source": [
    "names = [clean, medium, slang]\n",
    "texts = []\n",
    "fulls = []\n",
    "sets = []\n",
    "\n",
    "for group in names:\n",
    "    docs = []\n",
    "    full = ''\n",
    "    for book in group:\n",
    "        corpus = []\n",
    "        with open(book) as file:\n",
    "            for line in file:\n",
    "                corpus.append(line)\n",
    "\n",
    "        corpus = [el for el in corpus if el != '\\n']\n",
    "        corpus = [re.sub(r'[^\\w\\s]','',el)[:-1] for el in corpus]\n",
    "        for sentence in corpus:\n",
    "            full += ' ' + sentence\n",
    "        docs += [el.lower().split() for el in corpus]\n",
    "        \n",
    "    words = []\n",
    "    for sentence in docs:\n",
    "        words += sentence\n",
    "    sets.append(set(words))\n",
    "    texts += docs\n",
    "    fulls.append(full)"
   ]
  },
  {
   "cell_type": "code",
   "execution_count": 37,
   "metadata": {},
   "outputs": [],
   "source": [
    "model = gensim.models.Word2Vec(texts, size=100, iter=70, workers=4, min_count=1)"
   ]
  },
  {
   "cell_type": "code",
   "execution_count": 44,
   "metadata": {},
   "outputs": [],
   "source": [
    "from sklearn.feature_extraction.text import TfidfVectorizer"
   ]
  },
  {
   "cell_type": "code",
   "execution_count": 54,
   "metadata": {},
   "outputs": [],
   "source": [
    "vec = TfidfVectorizer()\n",
    "tfidf = vec.fit_transform(fulls)"
   ]
  },
  {
   "cell_type": "code",
   "execution_count": 88,
   "metadata": {},
   "outputs": [],
   "source": [
    "npidf = tfidf.toarray()"
   ]
  },
  {
   "cell_type": "code",
   "execution_count": 73,
   "metadata": {},
   "outputs": [],
   "source": [
    "fnames = vec.get_feature_names()"
   ]
  },
  {
   "cell_type": "code",
   "execution_count": 101,
   "metadata": {},
   "outputs": [
    {
     "data": {
      "text/plain": [
       "30002"
      ]
     },
     "execution_count": 101,
     "metadata": {},
     "output_type": "execute_result"
    }
   ],
   "source": [
    "fnames.index('забастовали')"
   ]
  },
  {
   "cell_type": "code",
   "execution_count": 102,
   "metadata": {},
   "outputs": [
    {
     "data": {
      "text/plain": [
       "array([0.       , 0.       , 0.0009569])"
      ]
     },
     "execution_count": 102,
     "metadata": {},
     "output_type": "execute_result"
    }
   ],
   "source": [
    "npidf[:,30002]"
   ]
  },
  {
   "cell_type": "code",
   "execution_count": 96,
   "metadata": {},
   "outputs": [
    {
     "name": "stdout",
     "output_type": "stream",
     "text": [
      "менты [0.00000000e+00 8.19675923e-05 2.11046352e-02]\n",
      "партизан [0.00000000e+00 8.19675923e-05 1.96491431e-02]\n",
      "суки [0.00000000e+00 8.19675923e-05 8.73295248e-03]\n",
      "хуй [0.00000000e+00 8.19675923e-05 3.27485718e-02]\n",
      "хули [0.00000000e+00 8.19675923e-05 1.01884446e-02]\n",
      "хуя [0.00000000e+00 8.19675923e-05 1.23716827e-02]\n",
      "чувак [0.00000000e+00 8.19675923e-05 2.40156193e-02]\n"
     ]
    }
   ],
   "source": [
    "for i, word in enumerate(fnames):\n",
    "    idf = npidf[:, i]\n",
    "    if (idf[1] > 100 * idf[0]) and (idf[2] > 100 * idf[1]):\n",
    "        print(word, idf)"
   ]
  },
  {
   "cell_type": "code",
   "execution_count": 130,
   "metadata": {},
   "outputs": [],
   "source": [
    "test = 'чувак слышишь гром пушек над рекой чертовы менты задолбали ненавижу французы бородино'\n",
    "test2 = 'фигня хрень смерть турист растаман'\n",
    "test3 = 'я иду вижу мента он стреляет революция нахер все снесем к чертям собачьим'\n",
    "test4 = 'король пришел забабахал авиакатастрофы смерть младенцы кровь тоска кишки россия'"
   ]
  },
  {
   "cell_type": "code",
   "execution_count": 120,
   "metadata": {},
   "outputs": [],
   "source": [
    "def logic(string):\n",
    "    for word in string.split():\n",
    "        try:\n",
    "            index = fnames.index(word)\n",
    "            idf = npidf[:, index]\n",
    "            if (idf[1] > 100 * idf[0]) or (idf[2] > 100 * idf[0]):\n",
    "                best = '0'\n",
    "                best_res = -100\n",
    "                for gword in sets[0]:\n",
    "                    score = model.wv.similarity(word, gword)\n",
    "                    if score > best_res:\n",
    "                        best_res = score\n",
    "                        best = gword\n",
    "                print(word, ' ---> ', best)\n",
    "        except:\n",
    "            pass"
   ]
  },
  {
   "cell_type": "code",
   "execution_count": 131,
   "metadata": {},
   "outputs": [
    {
     "name": "stdout",
     "output_type": "stream",
     "text": [
      "авиакатастрофы  --->  старческий\n"
     ]
    }
   ],
   "source": [
    "logic(test4)"
   ]
  },
  {
   "cell_type": "code",
   "execution_count": 110,
   "metadata": {},
   "outputs": [
    {
     "data": {
      "text/plain": [
       "[('изможденном', 0.7472450733184814),\n",
       " ('восхитительна', 0.7293205261230469),\n",
       " ('кутузовскою', 0.7288143634796143),\n",
       " ('тревожная', 0.7285295724868774),\n",
       " ('таблиц', 0.7273244857788086),\n",
       " ('неумолимых', 0.7271543741226196),\n",
       " ('единственна', 0.7251404523849487),\n",
       " ('взывала', 0.7242549061775208),\n",
       " ('благословением', 0.723096489906311),\n",
       " ('очерстветь', 0.7229198813438416)]"
      ]
     },
     "execution_count": 110,
     "metadata": {},
     "output_type": "execute_result"
    }
   ],
   "source": [
    "model.wv.most_similar('высокомерно')"
   ]
  }
 ],
 "metadata": {
  "kernelspec": {
   "display_name": "Python 3",
   "language": "python",
   "name": "python3"
  },
  "language_info": {
   "codemirror_mode": {
    "name": "ipython",
    "version": 3
   },
   "file_extension": ".py",
   "mimetype": "text/x-python",
   "name": "python",
   "nbconvert_exporter": "python",
   "pygments_lexer": "ipython3",
   "version": "3.7.3"
  }
 },
 "nbformat": 4,
 "nbformat_minor": 2
}
