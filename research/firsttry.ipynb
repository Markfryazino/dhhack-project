{
 "cells": [
  {
   "cell_type": "code",
   "execution_count": 5,
   "metadata": {},
   "outputs": [],
   "source": [
    "import numpy as np\n",
    "import pandas as pd\n",
    "import gensim\n",
    "import re"
   ]
  },
  {
   "cell_type": "code",
   "execution_count": 6,
   "metadata": {},
   "outputs": [],
   "source": [
    "books = ['warandpeace.txt', 'annakarenina.txt', 'idiot.txt', 'onegin.txt']"
   ]
  },
  {
   "cell_type": "code",
   "execution_count": 7,
   "metadata": {},
   "outputs": [],
   "source": [
    "docs = []\n",
    "\n",
    "for book in books:\n",
    "    corpus = []\n",
    "    with open(book) as file:\n",
    "        for line in file:\n",
    "            corpus.append(line)\n",
    "            \n",
    "    corpus = [el for el in corpus if el != '\\n']\n",
    "    corpus = [re.sub(r'[^\\w\\s]','',el)[:-1] for el in corpus]\n",
    "    docs += [el.lower().split() for el in corpus]"
   ]
  },
  {
   "cell_type": "code",
   "execution_count": 8,
   "metadata": {},
   "outputs": [
    {
     "data": {
      "text/plain": [
       "29548"
      ]
     },
     "execution_count": 8,
     "metadata": {},
     "output_type": "execute_result"
    }
   ],
   "source": [
    "len(docs)"
   ]
  },
  {
   "cell_type": "code",
   "execution_count": 4,
   "metadata": {},
   "outputs": [],
   "source": [
    "slang = ['mitiki.txt', 'rastamans.txt', 'chapaev_demo.txt']"
   ]
  },
  {
   "cell_type": "code",
   "execution_count": 5,
   "metadata": {},
   "outputs": [],
   "source": [
    "slang_docs = []\n",
    "\n",
    "for book in slang:\n",
    "    corpus = []\n",
    "    with open(book) as file:\n",
    "        for line in file:\n",
    "            corpus.append(line)\n",
    "            \n",
    "    corpus = [el for el in corpus if el != '\\n']\n",
    "    corpus = [re.sub(r'[^\\w\\s]','',el)[:-1] for el in corpus]\n",
    "    slang_docs += [el.lower().split() for el in corpus]"
   ]
  },
  {
   "cell_type": "code",
   "execution_count": 6,
   "metadata": {},
   "outputs": [
    {
     "data": {
      "text/plain": [
       "1753"
      ]
     },
     "execution_count": 6,
     "metadata": {},
     "output_type": "execute_result"
    }
   ],
   "source": [
    "len(slang_docs)"
   ]
  },
  {
   "cell_type": "code",
   "execution_count": 7,
   "metadata": {},
   "outputs": [],
   "source": [
    "fine_words = []\n",
    "for sentence in docs:\n",
    "    fine_words += sentence"
   ]
  },
  {
   "cell_type": "code",
   "execution_count": 8,
   "metadata": {},
   "outputs": [
    {
     "data": {
      "text/plain": [
       "82681"
      ]
     },
     "execution_count": 8,
     "metadata": {},
     "output_type": "execute_result"
    }
   ],
   "source": [
    "fine_words = set(fine_words)\n",
    "len(fine_words)"
   ]
  },
  {
   "cell_type": "code",
   "execution_count": 9,
   "metadata": {},
   "outputs": [],
   "source": [
    "bad_words = []\n",
    "for sentence in slang_docs:\n",
    "    bad_words += sentence"
   ]
  },
  {
   "cell_type": "code",
   "execution_count": 10,
   "metadata": {},
   "outputs": [],
   "source": [
    "full_docs = docs + slang_docs"
   ]
  },
  {
   "cell_type": "code",
   "execution_count": 11,
   "metadata": {},
   "outputs": [],
   "source": [
    "model = gensim.models.Word2Vec(full_docs, size=100, iter=40, workers=4)"
   ]
  },
  {
   "cell_type": "code",
   "execution_count": 13,
   "metadata": {},
   "outputs": [
    {
     "data": {
      "text/plain": [
       "[('хрюшкин', 0.6939151287078857),\n",
       " ('торгует', 0.666985273361206),\n",
       " ('теща', 0.6516457796096802),\n",
       " ('солнышко', 0.6493232250213623),\n",
       " ('змей', 0.6481752395629883),\n",
       " ('гады', 0.6431779861450195),\n",
       " ('волосатый', 0.6333903074264526),\n",
       " ('пирожками', 0.6276737451553345),\n",
       " ('скотина', 0.62479168176651),\n",
       " ('короче', 0.6197789907455444)]"
      ]
     },
     "execution_count": 13,
     "metadata": {},
     "output_type": "execute_result"
    }
   ],
   "source": [
    "model.wv.most_similar(positive='мент')"
   ]
  }
 ],
 "metadata": {
  "kernelspec": {
   "display_name": "Python 3",
   "language": "python",
   "name": "python3"
  },
  "language_info": {
   "codemirror_mode": {
    "name": "ipython",
    "version": 3
   },
   "file_extension": ".py",
   "mimetype": "text/x-python",
   "name": "python",
   "nbconvert_exporter": "python",
   "pygments_lexer": "ipython3",
   "version": "3.7.3"
  }
 },
 "nbformat": 4,
 "nbformat_minor": 2
}
